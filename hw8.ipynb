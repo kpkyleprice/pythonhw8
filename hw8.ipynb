{
 "cells": [
  {
   "cell_type": "code",
   "execution_count": 1,
   "id": "8c394a8d",
   "metadata": {},
   "outputs": [
    {
     "name": "stdout",
     "output_type": "stream",
     "text": [
      "[10, 4, 3, 8, 4, 2, 6]\n",
      "[2, 4, 3, 8, 4, 10, 6]\n"
     ]
    }
   ],
   "source": [
    "def swapPositions(list, pos1, pos2, pos3):\n",
    "     \n",
    "    list[pos1], list[pos2], list[pos3] = list[pos3], list[pos2], list[pos1]\n",
    "    return list\n",
    " \n",
    "List = [10, 4, 3, 8, 4, 2, 6]\n",
    "pos1, pos2, pos3  = 1, 3, 6\n",
    "\n",
    "print(List)\n",
    "print(swapPositions(List, pos1-1, pos2-1, pos3-1))"
   ]
  },
  {
   "cell_type": "code",
   "execution_count": 2,
   "id": "1858c2d1",
   "metadata": {},
   "outputs": [
    {
     "name": "stdout",
     "output_type": "stream",
     "text": [
      "Before swap: ['this', 'is', 'a', 'sentence', '.']\n",
      "After swap: ['.', 'ecnetnes', 'a', 'si', 'siht']\n"
     ]
    }
   ],
   "source": [
    "words = ['this' , 'is', 'a', 'sentence', '.']\n",
    "\n",
    "def inplaceSwap(words, zero, one, two, three, four):\n",
    "    words[zero], words[one], words[two], words[three], words[four] = words[four][::-1], words[three][::-1], words[two][::-1], words[one][::-1], words[zero][::-1]\n",
    "    return words\n",
    "\n",
    "print(f\"Before swap: {words}\")\n",
    "inplaceSwap(words, 0, 1, 2, 3, 4)\n",
    "print(f\"After swap: {words}\")"
   ]
  },
  {
   "cell_type": "code",
   "execution_count": 3,
   "id": "a809cf3b",
   "metadata": {},
   "outputs": [
    {
     "data": {
      "text/plain": [
       "{'in': 1,\n",
       " 'computing,': 1,\n",
       " 'a': 5,\n",
       " 'hash': 4,\n",
       " 'table': 2,\n",
       " 'map': 2,\n",
       " 'is': 1,\n",
       " 'data': 2,\n",
       " 'structure': 2,\n",
       " 'which': 2,\n",
       " 'implements': 1,\n",
       " 'an': 3,\n",
       " 'associative': 1,\n",
       " 'array': 2,\n",
       " 'abstract': 1,\n",
       " 'type,': 1,\n",
       " 'that': 1,\n",
       " 'can': 2,\n",
       " 'keys': 1,\n",
       " 'to': 2,\n",
       " 'values.': 1,\n",
       " 'uses': 1,\n",
       " 'function': 1,\n",
       " 'compute': 1,\n",
       " 'index': 1,\n",
       " 'into': 1,\n",
       " 'of': 1,\n",
       " 'buckets': 1,\n",
       " 'or': 1,\n",
       " 'slots': 1,\n",
       " 'from': 1,\n",
       " 'the': 1,\n",
       " 'desired': 1,\n",
       " 'value': 1,\n",
       " 'be': 1,\n",
       " 'found': 1}"
      ]
     },
     "execution_count": 3,
     "metadata": {},
     "output_type": "execute_result"
    }
   ],
   "source": [
    "a_text = 'In computing, a hash table hash map is a data structure which implements an associative array abstract data type, a structure that can map keys to values. A hash table uses a hash function to compute an index into an array of buckets or slots from which the desired value can be found'\n",
    "\n",
    "def word_count(sentence):\n",
    "    sentence = sentence.lower()\n",
    "    CountDictionary = {}\n",
    "    a_text = sentence.split()\n",
    "    for number in a_text:\n",
    "        WordCounter = 0\n",
    "        for word in a_text:\n",
    "            if number == word:\n",
    "                WordCounter += 1\n",
    "            CountDictionary[number] = WordCounter\n",
    "    return CountDictionary\n",
    "\n",
    "word_count(a_text)"
   ]
  },
  {
   "cell_type": "code",
   "execution_count": 4,
   "id": "3c1dd3b9",
   "metadata": {},
   "outputs": [
    {
     "name": "stdout",
     "output_type": "stream",
     "text": [
      "Number is present at index 2\n"
     ]
    }
   ],
   "source": [
    "def search(arr, N, x):\n",
    " \n",
    "    for i in range(0, N):\n",
    "        if (arr[i] == x):\n",
    "            return i\n",
    "    return -1\n",
    "\n",
    "if __name__ == \"__main__\":\n",
    "    arr = [10,23,45,70,11,15]\n",
    "    x = 45\n",
    "    N = len(arr)\n",
    " \n",
    "    result = search(arr, N, x)\n",
    "    if(result == -1):\n",
    "        print(result)\n",
    "    else:\n",
    "        print(\"Number is present at index\", result)"
   ]
  },
  {
   "cell_type": "code",
   "execution_count": null,
   "id": "d68bd10b",
   "metadata": {},
   "outputs": [],
   "source": []
  }
 ],
 "metadata": {
  "kernelspec": {
   "display_name": "Python 3 (ipykernel)",
   "language": "python",
   "name": "python3"
  },
  "language_info": {
   "codemirror_mode": {
    "name": "ipython",
    "version": 3
   },
   "file_extension": ".py",
   "mimetype": "text/x-python",
   "name": "python",
   "nbconvert_exporter": "python",
   "pygments_lexer": "ipython3",
   "version": "3.9.13"
  }
 },
 "nbformat": 4,
 "nbformat_minor": 5
}
